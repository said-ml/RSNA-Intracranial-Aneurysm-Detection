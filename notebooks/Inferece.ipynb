{
 "cells": [
  {
   "cell_type": "markdown",
   "id": "4bc386e5-a464-41be-84df-d9be1f93226a",
   "metadata": {},
   "source": [
    "## Inference Pepline:\n"
   ]
  },
  {
   "cell_type": "code",
   "execution_count": 4,
   "id": "9b1af2c9-f8d7-4b77-82b6-8ab855b32b6c",
   "metadata": {},
   "outputs": [
    {
     "name": "stdout",
     "output_type": "stream",
     "text": [
      "ok\n"
     ]
    }
   ],
   "source": [
    "# imports\n",
    "import numpy as np\n",
    "import pandas as pd\n",
    "import polars as pl\n",
    "\n",
    "# torch's packages\n",
    "import torch\n",
    "from torch import nn\n",
    "from torch import functional as F\n",
    "\n",
    "# hints for code readability\n",
    "from typing import List, Tuple, Dict, Optional\n",
    "\n",
    "# systems\n",
    "import os\n",
    "import sys\n",
    "if not sys.warnoptions:\n",
    "    import warnings\n",
    "    warnings.filterwarnings('ignore')\n",
    "print('ok')\n",
    "\n"
   ]
  },
  {
   "cell_type": "markdown",
   "id": "530ad58b-0a85-4f26-b95e-f0840ab86030",
   "metadata": {},
   "source": [
    "this i just a test notebook right noow"
   ]
  },
  {
   "cell_type": "code",
   "execution_count": null,
   "id": "c3810584-b3bd-4c2f-a6bf-6faea47cf3b0",
   "metadata": {},
   "outputs": [],
   "source": []
  }
 ],
 "metadata": {
  "kernelspec": {
   "display_name": "Python 3 (ipykernel)",
   "language": "python",
   "name": "python3"
  },
  "language_info": {
   "codemirror_mode": {
    "name": "ipython",
    "version": 3
   },
   "file_extension": ".py",
   "mimetype": "text/x-python",
   "name": "python",
   "nbconvert_exporter": "python",
   "pygments_lexer": "ipython3",
   "version": "3.12.5"
  }
 },
 "nbformat": 4,
 "nbformat_minor": 5
}
